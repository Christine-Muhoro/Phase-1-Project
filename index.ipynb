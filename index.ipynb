{
 "cells": [
  {
   "cell_type": "markdown",
   "id": "f719b4f6",
   "metadata": {},
   "source": [
    "## **PHASE 1 PROJECT**"
   ]
  },
  {
   "cell_type": "markdown",
   "id": "a8a65732",
   "metadata": {},
   "source": [
    "## **Business Understanding**"
   ]
  },
  {
   "cell_type": "markdown",
   "id": "1c663606",
   "metadata": {},
   "source": [
    "### **Overview**\n",
    "Skyway Airlines is a new airline that wants to enter the aviation industry. It wants to purchase aircrafts to operate for commercial and private enterprises. As a startup, one of the most important things is buying aircrafts that are safe and reliable for their operations. This project uses data from past aviation accidents between 1919 and 2023 to get potential risks of different aircrafts and determine the lowest risk aircraft. It also aims to show how important a specific airline's practices are having the best aircrafts or not. The goal is to provide Skyway Airlines with information to build a strong foundation of safety and efficiency for its operations.  "
   ]
  },
  {
   "cell_type": "markdown",
   "id": "2385ed70",
   "metadata": {},
   "source": [
    "### **Problem Statement**\n",
    "An airline company comes with high risks such as ensuring passenger safety and maintaining operational reliability. There are many issues that cause aviation accidents including the type of aircraft. Therefore, choosing the wrong type of aircraft would result in safety challenges and damage the brand reputation. Being unaware of the issues that cause accidents would also make it hard to ensure less accidents or little to no damage during accidents. All this may bring down the company as it is new in stead of growing it."
   ]
  },
  {
   "cell_type": "markdown",
   "id": "fb638eed",
   "metadata": {},
   "source": [
    "### **Objectives**\n",
    "1. Determine the aircraft with the lowest risk to purchase for the business.\n",
    "2. Find the potential risks of aircrafts and explain them to the stakeholders.\n",
    "3. Determine how important airline practices are in ensuring safety regardless of the aircraft type."
   ]
  },
  {
   "cell_type": "markdown",
   "id": "b0535305",
   "metadata": {},
   "source": [
    "### **Solution**\n",
    "The project aims to guide Skyway Airlines to making informed decisions on purchasing aircrafts and on ensuring operational reliabilty. That is, it provides aircraft and operator safety insights. This is by analyzing past aviation accident data to identify potential risks and the safest aircraft type. The analysis also aims to show that a specific airline can be the cause of an accident even though the type of aircraft is the best."
   ]
  },
  {
   "cell_type": "markdown",
   "id": "e265c700",
   "metadata": {},
   "source": [
    "## **Data Understanding** "
   ]
  },
  {
   "cell_type": "markdown",
   "id": "77653901",
   "metadata": {},
   "source": [
    "### Loading the data to a DataFrame, gettng its preview and metadata to understand the data."
   ]
  },
  {
   "cell_type": "code",
   "execution_count": 6,
   "id": "28acea90",
   "metadata": {},
   "outputs": [],
   "source": [
    "#Importing the pandas library for Explaratory Data Analysis\n",
    "import pandas as pd"
   ]
  },
  {
   "cell_type": "markdown",
   "id": "e0903ef9",
   "metadata": {},
   "source": [
    "Loading the data to a pandas DataFrame from a csv file and viewing the DataFrame"
   ]
  },
  {
   "cell_type": "code",
   "execution_count": 7,
   "id": "a8ec44f8",
   "metadata": {},
   "outputs": [
    {
     "data": {
      "text/html": [
       "<div>\n",
       "<style scoped>\n",
       "    .dataframe tbody tr th:only-of-type {\n",
       "        vertical-align: middle;\n",
       "    }\n",
       "\n",
       "    .dataframe tbody tr th {\n",
       "        vertical-align: top;\n",
       "    }\n",
       "\n",
       "    .dataframe thead th {\n",
       "        text-align: right;\n",
       "    }\n",
       "</style>\n",
       "<table border=\"1\" class=\"dataframe\">\n",
       "  <thead>\n",
       "    <tr style=\"text-align: right;\">\n",
       "      <th></th>\n",
       "      <th>date</th>\n",
       "      <th>type</th>\n",
       "      <th>registration</th>\n",
       "      <th>operator</th>\n",
       "      <th>fatalities</th>\n",
       "      <th>location</th>\n",
       "      <th>country</th>\n",
       "      <th>cat</th>\n",
       "      <th>year</th>\n",
       "    </tr>\n",
       "  </thead>\n",
       "  <tbody>\n",
       "    <tr>\n",
       "      <th>0</th>\n",
       "      <td>date unk.</td>\n",
       "      <td>Antonov An-12B</td>\n",
       "      <td>T-1206</td>\n",
       "      <td>Indonesian AF</td>\n",
       "      <td>NaN</td>\n",
       "      <td>NaN</td>\n",
       "      <td>Unknown country</td>\n",
       "      <td>U1</td>\n",
       "      <td>unknown</td>\n",
       "    </tr>\n",
       "    <tr>\n",
       "      <th>1</th>\n",
       "      <td>date unk.</td>\n",
       "      <td>Antonov An-12B</td>\n",
       "      <td>T-1204</td>\n",
       "      <td>Indonesian AF</td>\n",
       "      <td>NaN</td>\n",
       "      <td>NaN</td>\n",
       "      <td>Unknown country</td>\n",
       "      <td>U1</td>\n",
       "      <td>unknown</td>\n",
       "    </tr>\n",
       "    <tr>\n",
       "      <th>2</th>\n",
       "      <td>date unk.</td>\n",
       "      <td>Antonov An-12B</td>\n",
       "      <td>T-1201</td>\n",
       "      <td>Indonesian AF</td>\n",
       "      <td>NaN</td>\n",
       "      <td>NaN</td>\n",
       "      <td>Unknown country</td>\n",
       "      <td>U1</td>\n",
       "      <td>unknown</td>\n",
       "    </tr>\n",
       "    <tr>\n",
       "      <th>3</th>\n",
       "      <td>date unk.</td>\n",
       "      <td>Antonov An-12BK</td>\n",
       "      <td>NaN</td>\n",
       "      <td>Soviet AF</td>\n",
       "      <td>NaN</td>\n",
       "      <td>Tiksi Airport (IKS)</td>\n",
       "      <td>Russia</td>\n",
       "      <td>A1</td>\n",
       "      <td>unknown</td>\n",
       "    </tr>\n",
       "    <tr>\n",
       "      <th>4</th>\n",
       "      <td>date unk.</td>\n",
       "      <td>Antonov An-12BP</td>\n",
       "      <td>CCCP-11815</td>\n",
       "      <td>Soviet AF</td>\n",
       "      <td>0</td>\n",
       "      <td>Massawa Airport ...</td>\n",
       "      <td>Eritrea</td>\n",
       "      <td>A1</td>\n",
       "      <td>unknown</td>\n",
       "    </tr>\n",
       "    <tr>\n",
       "      <th>...</th>\n",
       "      <td>...</td>\n",
       "      <td>...</td>\n",
       "      <td>...</td>\n",
       "      <td>...</td>\n",
       "      <td>...</td>\n",
       "      <td>...</td>\n",
       "      <td>...</td>\n",
       "      <td>...</td>\n",
       "      <td>...</td>\n",
       "    </tr>\n",
       "    <tr>\n",
       "      <th>23962</th>\n",
       "      <td>11-May-23</td>\n",
       "      <td>Hawker 900XP</td>\n",
       "      <td>PK-LRU</td>\n",
       "      <td>Angkasa Super Services</td>\n",
       "      <td>0</td>\n",
       "      <td>Maleo Airport (MOH)</td>\n",
       "      <td>Indonesia</td>\n",
       "      <td>A2</td>\n",
       "      <td>2023</td>\n",
       "    </tr>\n",
       "    <tr>\n",
       "      <th>23963</th>\n",
       "      <td>11-May-23</td>\n",
       "      <td>Cessna 208B Grand Caravan</td>\n",
       "      <td>PK-NGA</td>\n",
       "      <td>Nasional Global Aviasi</td>\n",
       "      <td>0</td>\n",
       "      <td>Fentheik Airstrip</td>\n",
       "      <td>Indonesia</td>\n",
       "      <td>A2</td>\n",
       "      <td>2023</td>\n",
       "    </tr>\n",
       "    <tr>\n",
       "      <th>23964</th>\n",
       "      <td>12-May-23</td>\n",
       "      <td>Cessna 208B Grand Caravan</td>\n",
       "      <td>5X-RBR</td>\n",
       "      <td>Bar Aviation</td>\n",
       "      <td>0</td>\n",
       "      <td>Kampala-Kajjansi...</td>\n",
       "      <td>Uganda</td>\n",
       "      <td>A1</td>\n",
       "      <td>2023</td>\n",
       "    </tr>\n",
       "    <tr>\n",
       "      <th>23965</th>\n",
       "      <td>14-May-23</td>\n",
       "      <td>Boeing 747-4R7F</td>\n",
       "      <td>LX-OCV</td>\n",
       "      <td>Cargolux</td>\n",
       "      <td>0</td>\n",
       "      <td>Luxembourg-Finde...</td>\n",
       "      <td>Luxembourg</td>\n",
       "      <td>A2</td>\n",
       "      <td>2023</td>\n",
       "    </tr>\n",
       "    <tr>\n",
       "      <th>23966</th>\n",
       "      <td>15-May-23</td>\n",
       "      <td>Learjet 35A</td>\n",
       "      <td>D-CGFQ</td>\n",
       "      <td>GFD</td>\n",
       "      <td>2</td>\n",
       "      <td>Hohn Air Base</td>\n",
       "      <td>Germany</td>\n",
       "      <td>A1</td>\n",
       "      <td>2023</td>\n",
       "    </tr>\n",
       "  </tbody>\n",
       "</table>\n",
       "<p>23967 rows × 9 columns</p>\n",
       "</div>"
      ],
      "text/plain": [
       "            date                       type registration  \\\n",
       "0      date unk.             Antonov An-12B       T-1206   \n",
       "1      date unk.             Antonov An-12B       T-1204   \n",
       "2      date unk.             Antonov An-12B       T-1201   \n",
       "3      date unk.            Antonov An-12BK          NaN   \n",
       "4      date unk.            Antonov An-12BP   CCCP-11815   \n",
       "...          ...                        ...          ...   \n",
       "23962  11-May-23               Hawker 900XP       PK-LRU   \n",
       "23963  11-May-23  Cessna 208B Grand Caravan       PK-NGA   \n",
       "23964  12-May-23  Cessna 208B Grand Caravan       5X-RBR   \n",
       "23965  14-May-23            Boeing 747-4R7F       LX-OCV   \n",
       "23966  15-May-23                Learjet 35A       D-CGFQ   \n",
       "\n",
       "                     operator fatalities             location  \\\n",
       "0               Indonesian AF        NaN                  NaN   \n",
       "1               Indonesian AF        NaN                  NaN   \n",
       "2               Indonesian AF        NaN                  NaN   \n",
       "3                   Soviet AF        NaN  Tiksi Airport (IKS)   \n",
       "4                   Soviet AF          0  Massawa Airport ...   \n",
       "...                       ...        ...                  ...   \n",
       "23962  Angkasa Super Services          0  Maleo Airport (MOH)   \n",
       "23963  Nasional Global Aviasi          0    Fentheik Airstrip   \n",
       "23964            Bar Aviation          0  Kampala-Kajjansi...   \n",
       "23965                Cargolux          0  Luxembourg-Finde...   \n",
       "23966                     GFD          2        Hohn Air Base   \n",
       "\n",
       "               country cat     year  \n",
       "0      Unknown country  U1  unknown  \n",
       "1      Unknown country  U1  unknown  \n",
       "2      Unknown country  U1  unknown  \n",
       "3               Russia  A1  unknown  \n",
       "4              Eritrea  A1  unknown  \n",
       "...                ...  ..      ...  \n",
       "23962        Indonesia  A2     2023  \n",
       "23963        Indonesia  A2     2023  \n",
       "23964           Uganda  A1     2023  \n",
       "23965       Luxembourg  A2     2023  \n",
       "23966          Germany  A1     2023  \n",
       "\n",
       "[23967 rows x 9 columns]"
      ]
     },
     "execution_count": 7,
     "metadata": {},
     "output_type": "execute_result"
    }
   ],
   "source": [
    "df = pd.read_csv('aviation-accident-data-2023-05-16.csv')\n",
    "df"
   ]
  },
  {
   "cell_type": "markdown",
   "id": "bc065fb1",
   "metadata": {},
   "source": [
    "Getting the first few rows of the data"
   ]
  },
  {
   "cell_type": "code",
   "execution_count": 8,
   "id": "7457f9a3",
   "metadata": {},
   "outputs": [
    {
     "data": {
      "text/html": [
       "<div>\n",
       "<style scoped>\n",
       "    .dataframe tbody tr th:only-of-type {\n",
       "        vertical-align: middle;\n",
       "    }\n",
       "\n",
       "    .dataframe tbody tr th {\n",
       "        vertical-align: top;\n",
       "    }\n",
       "\n",
       "    .dataframe thead th {\n",
       "        text-align: right;\n",
       "    }\n",
       "</style>\n",
       "<table border=\"1\" class=\"dataframe\">\n",
       "  <thead>\n",
       "    <tr style=\"text-align: right;\">\n",
       "      <th></th>\n",
       "      <th>date</th>\n",
       "      <th>type</th>\n",
       "      <th>registration</th>\n",
       "      <th>operator</th>\n",
       "      <th>fatalities</th>\n",
       "      <th>location</th>\n",
       "      <th>country</th>\n",
       "      <th>cat</th>\n",
       "      <th>year</th>\n",
       "    </tr>\n",
       "  </thead>\n",
       "  <tbody>\n",
       "    <tr>\n",
       "      <th>0</th>\n",
       "      <td>date unk.</td>\n",
       "      <td>Antonov An-12B</td>\n",
       "      <td>T-1206</td>\n",
       "      <td>Indonesian AF</td>\n",
       "      <td>NaN</td>\n",
       "      <td>NaN</td>\n",
       "      <td>Unknown country</td>\n",
       "      <td>U1</td>\n",
       "      <td>unknown</td>\n",
       "    </tr>\n",
       "    <tr>\n",
       "      <th>1</th>\n",
       "      <td>date unk.</td>\n",
       "      <td>Antonov An-12B</td>\n",
       "      <td>T-1204</td>\n",
       "      <td>Indonesian AF</td>\n",
       "      <td>NaN</td>\n",
       "      <td>NaN</td>\n",
       "      <td>Unknown country</td>\n",
       "      <td>U1</td>\n",
       "      <td>unknown</td>\n",
       "    </tr>\n",
       "    <tr>\n",
       "      <th>2</th>\n",
       "      <td>date unk.</td>\n",
       "      <td>Antonov An-12B</td>\n",
       "      <td>T-1201</td>\n",
       "      <td>Indonesian AF</td>\n",
       "      <td>NaN</td>\n",
       "      <td>NaN</td>\n",
       "      <td>Unknown country</td>\n",
       "      <td>U1</td>\n",
       "      <td>unknown</td>\n",
       "    </tr>\n",
       "    <tr>\n",
       "      <th>3</th>\n",
       "      <td>date unk.</td>\n",
       "      <td>Antonov An-12BK</td>\n",
       "      <td>NaN</td>\n",
       "      <td>Soviet AF</td>\n",
       "      <td>NaN</td>\n",
       "      <td>Tiksi Airport (IKS)</td>\n",
       "      <td>Russia</td>\n",
       "      <td>A1</td>\n",
       "      <td>unknown</td>\n",
       "    </tr>\n",
       "    <tr>\n",
       "      <th>4</th>\n",
       "      <td>date unk.</td>\n",
       "      <td>Antonov An-12BP</td>\n",
       "      <td>CCCP-11815</td>\n",
       "      <td>Soviet AF</td>\n",
       "      <td>0</td>\n",
       "      <td>Massawa Airport ...</td>\n",
       "      <td>Eritrea</td>\n",
       "      <td>A1</td>\n",
       "      <td>unknown</td>\n",
       "    </tr>\n",
       "  </tbody>\n",
       "</table>\n",
       "</div>"
      ],
      "text/plain": [
       "        date             type registration       operator fatalities  \\\n",
       "0  date unk.   Antonov An-12B       T-1206  Indonesian AF        NaN   \n",
       "1  date unk.   Antonov An-12B       T-1204  Indonesian AF        NaN   \n",
       "2  date unk.   Antonov An-12B       T-1201  Indonesian AF        NaN   \n",
       "3  date unk.  Antonov An-12BK          NaN      Soviet AF        NaN   \n",
       "4  date unk.  Antonov An-12BP   CCCP-11815      Soviet AF          0   \n",
       "\n",
       "              location          country cat     year  \n",
       "0                  NaN  Unknown country  U1  unknown  \n",
       "1                  NaN  Unknown country  U1  unknown  \n",
       "2                  NaN  Unknown country  U1  unknown  \n",
       "3  Tiksi Airport (IKS)           Russia  A1  unknown  \n",
       "4  Massawa Airport ...          Eritrea  A1  unknown  "
      ]
     },
     "execution_count": 8,
     "metadata": {},
     "output_type": "execute_result"
    }
   ],
   "source": [
    "df.head()"
   ]
  },
  {
   "cell_type": "markdown",
   "id": "afa536a8",
   "metadata": {},
   "source": [
    "Getting the metadata or information about the data, i.e How many entries and columns and what datatypes the data has for each column etc."
   ]
  },
  {
   "cell_type": "code",
   "execution_count": 9,
   "id": "3b29cc5d",
   "metadata": {},
   "outputs": [
    {
     "name": "stdout",
     "output_type": "stream",
     "text": [
      "<class 'pandas.core.frame.DataFrame'>\n",
      "RangeIndex: 23967 entries, 0 to 23966\n",
      "Data columns (total 9 columns):\n",
      " #   Column        Non-Null Count  Dtype \n",
      "---  ------        --------------  ----- \n",
      " 0   date          23967 non-null  object\n",
      " 1   type          23967 non-null  object\n",
      " 2   registration  22419 non-null  object\n",
      " 3   operator      23963 non-null  object\n",
      " 4   fatalities    20029 non-null  object\n",
      " 5   location      23019 non-null  object\n",
      " 6   country       23967 non-null  object\n",
      " 7   cat           23967 non-null  object\n",
      " 8   year          23967 non-null  object\n",
      "dtypes: object(9)\n",
      "memory usage: 1.6+ MB\n"
     ]
    }
   ],
   "source": [
    "df.info()"
   ]
  },
  {
   "cell_type": "markdown",
   "id": "b233037b",
   "metadata": {},
   "source": [
    "After Understanding this data what changes are to be made during the cleaning process."
   ]
  },
  {
   "cell_type": "code",
   "execution_count": 10,
   "id": "d4725520",
   "metadata": {},
   "outputs": [
    {
     "data": {
      "text/plain": [
       "\"\\nFrom the above, the following few things are to be checked and changed;\\nMissing values in the registration, operator, fatalities and location columns.\\nColumns like date and year have values called 'unknown' which should be tken as missing values.\\ndate column datatype is a string not a datetime.\\n\\n\""
      ]
     },
     "execution_count": 10,
     "metadata": {},
     "output_type": "execute_result"
    }
   ],
   "source": [
    "\"\"\"\n",
    "From the above, the following few things are to be checked and changed;\n",
    "Missing values in the registration, operator, fatalities and location columns.\n",
    "Columns like date and year have values called 'unknown' which should be tken as missing values.\n",
    "date column datatype is a string not a datetime.\n",
    "\n",
    "\"\"\""
   ]
  }
 ],
 "metadata": {
  "kernelspec": {
   "display_name": "learn-env",
   "language": "python",
   "name": "python3"
  },
  "language_info": {
   "codemirror_mode": {
    "name": "ipython",
    "version": 3
   },
   "file_extension": ".py",
   "mimetype": "text/x-python",
   "name": "python",
   "nbconvert_exporter": "python",
   "pygments_lexer": "ipython3",
   "version": "3.8.5"
  }
 },
 "nbformat": 4,
 "nbformat_minor": 5
}
